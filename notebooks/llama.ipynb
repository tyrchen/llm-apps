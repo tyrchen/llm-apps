{
 "cells": [
  {
   "cell_type": "code",
   "execution_count": 1,
   "id": "6d503dd1-f5c7-4a47-ae85-57c09f494b54",
   "metadata": {
    "tags": []
   },
   "outputs": [],
   "source": [
    "from llama_index import download_loader, GPTSimpleVectorIndex\n",
    "from pathlib import Path"
   ]
  },
  {
   "cell_type": "code",
   "execution_count": 2,
   "id": "cdf78f90-0ccc-4869-ae34-a0d6dd7fa7ab",
   "metadata": {
    "tags": []
   },
   "outputs": [],
   "source": [
    "UnstructuredReader = download_loader(\"UnstructuredReader\", refresh_cache=True)"
   ]
  },
  {
   "cell_type": "code",
   "execution_count": 3,
   "id": "aeb2b7da-1e07-47dd-b509-aef58109fad0",
   "metadata": {
    "tags": []
   },
   "outputs": [
    {
     "name": "stderr",
     "output_type": "stream",
     "text": [
      "[nltk_data] Downloading package punkt to /Users/tchen/nltk_data...\n",
      "[nltk_data]   Package punkt is already up-to-date!\n",
      "[nltk_data] Downloading package averaged_perceptron_tagger to\n",
      "[nltk_data]     /Users/tchen/nltk_data...\n",
      "[nltk_data]   Package averaged_perceptron_tagger is already up-to-\n",
      "[nltk_data]       date!\n",
      "WARNING:unstructured:detectron2 is not installed. Cannot use the hi_res partitioning strategy. Falling back to partitioning with the fast strategy.\n"
     ]
    }
   ],
   "source": [
    "loader = UnstructuredReader()\n",
    "doc = loader.load_data(file=Path('gpt4-tech-report.pdf'), split_documents=False)"
   ]
  },
  {
   "cell_type": "code",
   "execution_count": 14,
   "id": "ca60f226-9ebf-4bde-b4e4-ec885f8e9663",
   "metadata": {
    "tags": []
   },
   "outputs": [
    {
     "ename": "NameError",
     "evalue": "name 'LLMPredictor' is not defined",
     "output_type": "error",
     "traceback": [
      "\u001b[0;31m---------------------------------------------------------------------------\u001b[0m",
      "\u001b[0;31mNameError\u001b[0m                                 Traceback (most recent call last)",
      "Cell \u001b[0;32mIn[14], line 2\u001b[0m\n\u001b[1;32m      1\u001b[0m \u001b[38;5;28;01mfrom\u001b[39;00m \u001b[38;5;21;01mllama_index\u001b[39;00m \u001b[38;5;28;01mimport\u001b[39;00m ServiceContext\n\u001b[0;32m----> 2\u001b[0m llm_predictor \u001b[38;5;241m=\u001b[39m \u001b[43mLLMPredictor\u001b[49m(llm\u001b[38;5;241m=\u001b[39mOpenAI(temperature\u001b[38;5;241m=\u001b[39m\u001b[38;5;241m0\u001b[39m, model_name\u001b[38;5;241m=\u001b[39m\u001b[38;5;124m\"\u001b[39m\u001b[38;5;124mgpt-3.5-turbo\u001b[39m\u001b[38;5;124m\"\u001b[39m))\n\u001b[1;32m      3\u001b[0m service_context \u001b[38;5;241m=\u001b[39m ServiceContext\u001b[38;5;241m.\u001b[39mfrom_defaults(llm_predictor\u001b[38;5;241m=\u001b[39mllm_prediction, chunk_size_limit\u001b[38;5;241m=\u001b[39m\u001b[38;5;241m1024\u001b[39m)\n",
      "\u001b[0;31mNameError\u001b[0m: name 'LLMPredictor' is not defined"
     ]
    }
   ],
   "source": [
    "from llama_index import ServiceContext\n",
    "llm_predictor = LLMPredictor(llm=OpenAI(temperature=0, model_name=\"gpt-3.5-turbo\"))\n",
    "service_context = ServiceContext.from_defaults(llm_predictor=llm_prediction, chunk_size_limit=1024)"
   ]
  },
  {
   "cell_type": "code",
   "execution_count": 5,
   "id": "b19ba0f9-d4c7-49b1-83f7-b3b3da01aa9b",
   "metadata": {},
   "outputs": [
    {
     "name": "stderr",
     "output_type": "stream",
     "text": [
      "INFO:llama_index.token_counter.token_counter:> [build_index_from_nodes] Total LLM token usage: 0 tokens\n",
      "INFO:llama_index.token_counter.token_counter:> [build_index_from_nodes] Total embedding token usage: 97734 tokens\n"
     ]
    }
   ],
   "source": [
    "idx = GPTSimpleVectorIndex.from_documents(doc, service_context=service_context)\n",
    "idx.save_to_disk('index.json')"
   ]
  },
  {
   "cell_type": "code",
   "execution_count": 7,
   "id": "4cb56172-0348-489a-8d0f-b73c4541630c",
   "metadata": {
    "tags": []
   },
   "outputs": [
    {
     "name": "stderr",
     "output_type": "stream",
     "text": [
      "INFO:llama_index.token_counter.token_counter:> [query] Total LLM token usage: 2982 tokens\n",
      "INFO:llama_index.token_counter.token_counter:> [query] Total embedding token usage: 39 tokens\n"
     ]
    }
   ],
   "source": [
    "res = idx.query('这篇论文主要讲了什么内容？用中文回答', similarity_top_k=3)"
   ]
  },
  {
   "cell_type": "code",
   "execution_count": 8,
   "id": "13abc080-2677-4abc-9b81-deb7681c3172",
   "metadata": {
    "tags": []
   },
   "outputs": [
    {
     "name": "stdout",
     "output_type": "stream",
     "text": [
      "\n",
      "\n",
      "这篇论文主要讨论了越来越多的自主算法系统可能带来的危害，以及如何通过强化学习、反馈机制和语言模型来解决数学问题和推理问题，以及如何使用图表推理来解决复杂的问题。\n"
     ]
    }
   ],
   "source": [
    "print(res)"
   ]
  },
  {
   "cell_type": "code",
   "execution_count": 12,
   "id": "d5dd5bd5-b572-420b-a9e1-4f320008bd49",
   "metadata": {
    "tags": []
   },
   "outputs": [
    {
     "name": "stderr",
     "output_type": "stream",
     "text": [
      "INFO:llama_index.token_counter.token_counter:> [query] Total LLM token usage: 3606 tokens\n",
      "INFO:llama_index.token_counter.token_counter:> [query] Total embedding token usage: 63 tokens\n"
     ]
    }
   ],
   "source": [
    "res = idx.query("
   ]
  },
  {
   "cell_type": "code",
   "execution_count": 13,
   "id": "999dc067-74f7-4d4c-b0a8-6afca2ff1f0e",
   "metadata": {
    "tags": []
   },
   "outputs": [
    {
     "name": "stdout",
     "output_type": "stream",
     "text": [
      "\n",
      "\n",
      "GPT-4 比 GPT-3 更厉害的地方有：1. 在 TruthfulQA mc1 上的准确率更高；2. 在 zero-shot prompting、few-shot prompting 和 RLHF fine-tuning 之后的准确率更高；3. 在内部对抗性设计的事实性评估中，GPT-4 的准确率比 GPT-3.5 高出 19 个百分点；4. GPT-4 在 TruthfulQA 上的准确率比 GPT-3.5 高出 10%，在 few-shot prompting 时的准确率比 GPT-3 高出 20%\n"
     ]
    }
   ],
   "source": [
    "print(res)"
   ]
  },
  {
   "cell_type": "code",
   "execution_count": null,
   "id": "e401569e-3017-4967-9067-6ae4aa5bfc04",
   "metadata": {},
   "outputs": [],
   "source": []
  }
 ],
 "metadata": {
  "kernelspec": {
   "display_name": "Python 3 (ipykernel)",
   "language": "python",
   "name": "python3"
  },
  "language_info": {
   "codemirror_mode": {
    "name": "ipython",
    "version": 3
   },
   "file_extension": ".py",
   "mimetype": "text/x-python",
   "name": "python",
   "nbconvert_exporter": "python",
   "pygments_lexer": "ipython3",
   "version": "3.10.9"
  }
 },
 "nbformat": 4,
 "nbformat_minor": 5
}
